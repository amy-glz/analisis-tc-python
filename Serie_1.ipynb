{
  "nbformat": 4,
  "nbformat_minor": 0,
  "metadata": {
    "colab": {
      "provenance": [],
      "authorship_tag": "ABX9TyN1vniJfOhgE+NwkDRG2dJT",
      "include_colab_link": true
    },
    "kernelspec": {
      "name": "python3",
      "display_name": "Python 3"
    },
    "language_info": {
      "name": "python"
    }
  },
  "cells": [
    {
      "cell_type": "markdown",
      "metadata": {
        "id": "view-in-github",
        "colab_type": "text"
      },
      "source": [
        "<a href=\"https://colab.research.google.com/github/amy-glz/analisis-tc-python/blob/main/Serie_1.ipynb\" target=\"_parent\"><img src=\"https://colab.research.google.com/assets/colab-badge.svg\" alt=\"Open In Colab\"/></a>"
      ]
    },
    {
      "cell_type": "code",
      "execution_count": 95,
      "metadata": {
        "id": "tJ8IHrQxnQBW"
      },
      "outputs": [],
      "source": [
        "import numpy as np\n",
        "import matplotlib.pyplot as mtp"
      ]
    },
    {
      "cell_type": "code",
      "source": [
        "ax = mtp.axes()\n",
        "ax.arrow(1,1, 5,3 , head_width=0.5, head_length=0.5)\n",
        "mtp.ylim(0,10)\n",
        "mtp.xlim(0,10)\n",
        "mtp.show()"
      ],
      "metadata": {
        "colab": {
          "base_uri": "https://localhost:8080/",
          "height": 269
        },
        "id": "AAU7HlxSDnnj",
        "outputId": "652466c7-12b0-49b8-b0c5-d09533686164"
      },
      "execution_count": 96,
      "outputs": [
        {
          "output_type": "display_data",
          "data": {
            "text/plain": [
              "<Figure size 432x288 with 1 Axes>"
            ],
            "image/png": "[encoded data removed]"
          },
          "metadata": {
            "needs_background": "light"
          }
        }
      ]
    },
    {
      "cell_type": "code",
      "source": [
        "# Aquí establecí la magnitud de los ejes coordenados y las distancias de graduación\n",
        "xmin, xmax, ymin, ymax = -5, 5, -3, 3\n",
        "ticks_frequency = 1\n",
        "\n",
        "# Aquí están los vectores\n",
        "fig, ax = mtp.subplots(figsize=(10, 10))\n",
        "mtp.quiver([0, 0, 0, 0], [0, 0, 0, 0], [4, -4, 4, -4], [2, 2, -2, -2], angles='xy', scale_units='xy', scale=1)\n",
        "mtp.xlim(-6, 6)\n",
        "mtp.ylim(-6, 6)\n",
        "\n",
        "#Esto para que estén bonitos los ejes, centrados, con cuadrícula y terminación en flecha.\n",
        "ax.set(xlim=(xmin-1, xmax+1), ylim=(ymin-1, ymax+1), aspect='equal')\n",
        "ax.spines['bottom'].set_position('zero')\n",
        "\n",
        "ax.spines['left'].set_position('zero')\n",
        "\n",
        "ax.spines['top'].set_visible(False)\n",
        "ax.spines['right'].set_visible(False)\n",
        "\n",
        "ax.set_xlabel('x', size=14, labelpad=-24, x=1.03)\n",
        "ax.set_ylabel('y', size=14, labelpad=-21, y=1.02, rotation=0)\n",
        "\n",
        "x_ticks = np.arange(xmin, xmax+1, ticks_frequency)\n",
        "y_ticks = np.arange(ymin, ymax+1, ticks_frequency)\n",
        "ax.set_xticks(x_ticks[x_ticks != 0])\n",
        "ax.set_yticks(y_ticks[y_ticks != 0])\n",
        "\n",
        "ax.set_xticks(np.arange(xmin, xmax+1), minor=True)\n",
        "ax.set_yticks(np.arange(ymin, ymax+1), minor=True)\n",
        "\n",
        "ax.grid(which='both', color='grey', linewidth=1, linestyle='-', alpha=0.2)\n",
        "\n",
        "arrow_fmt = dict(markersize=4, color='black', clip_on=False)\n",
        "ax.plot((1), (0), marker='>', transform=ax.get_yaxis_transform(), **arrow_fmt)\n",
        "ax.plot((0), (1), marker='^', transform=ax.get_xaxis_transform(), **arrow_fmt)\n",
        "\n",
        "mtp.show()"
      ],
      "metadata": {
        "colab": {
          "base_uri": "https://localhost:8080/",
          "height": 424
        },
        "id": "SPy6J6roLPRB",
        "outputId": "6d3cf63a-a497-4801-8547-e9000a0e64a8"
      },
      "execution_count": 98,
      "outputs": [
        {
          "output_type": "display_data",
          "data": {
            "text/plain": [
              "<Figure size 720x720 with 1 Axes>"
            ],
            "image/png": "[encoded data removed]"
          },
          "metadata": {
            "needs_background": "light"
          }
        }
      ]
    }
  ]
}